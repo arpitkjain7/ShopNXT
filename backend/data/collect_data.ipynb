{
 "cells": [
  {
   "cell_type": "code",
   "execution_count": 2,
   "metadata": {},
   "outputs": [],
   "source": [
    "import json\n",
    "import pandas as pd\n",
    "import os"
   ]
  },
  {
   "cell_type": "code",
   "execution_count": 13,
   "metadata": {},
   "outputs": [
    {
     "name": "stdout",
     "output_type": "stream",
     "text": [
      "Data_Foodgrains, Oil & Masala_Edible Oils & Ghee.json\n",
      "Data_Eggs, Meat & Fish_Poultry.json\n",
      "Data_Gourmet & World Food_Chocolates & Biscuits.json\n",
      "Data_Bakery, Cakes & Dairy_Gourmet Breads.json\n",
      "Data_Baby Care_Baby Accessories.json\n",
      "Data_Beauty & Hygiene_Health & Medicine.json\n",
      "Data_Gourmet & World Food_Sauces, Spreads & Dips.json\n",
      "Data_Eggs, Meat & Fish_Fish & Seafood.json\n",
      "Data_Baby Care_Feeding & Nursing.json\n",
      "Data_Snacks & Branded Foods_Ready To Cook & Eat.json\n",
      "Data_Snacks & Branded Foods_Snacks & Namkeen.json\n",
      "Data_Baby Care_Baby Bath & Hygiene.json\n",
      "Data_Beauty & Hygiene_Feminine Hygiene.json\n",
      "Data_Eggs, Meat & Fish_Marinades.json\n",
      "Data_Beverages_Coffee.json\n",
      "Data_Gourmet & World Food_Cooking & Baking Needs.json\n",
      "Data_Foodgrains, Oil & Masala_Rice & Rice Products.json\n",
      "Data_Foodgrains, Oil & Masala_Dry Fruits.json\n",
      "Data_Foodgrains, Oil & Masala_Salt, Sugar & Jaggery.json\n",
      "Data_Foodgrains, Oil & Masala_Dals & Pulses.json\n",
      "Data_Bakery, Cakes & Dairy_Dairy.json\n",
      "Data_Cleaning & Household_Stationery.json\n",
      "Data_Baby Care_Diapers & Wipes.json\n",
      "Data_Baby Care_Baby Food & Formula.json\n",
      "Data_Eggs, Meat & Fish_Sausages, Bacon & Salami.json\n",
      "Data_Beverages_Energy & Soft Drinks.json\n",
      "Data_Bakery, Cakes & Dairy_Breads & Buns.json\n",
      "Data_Cleaning & Household_Detergents & Dishwash.json\n",
      "Data_Bakery, Cakes & Dairy_Cookies, Rusk & Khari.json\n",
      "Data_Foodgrains, Oil & Masala_Masalas & Spices.json\n",
      "Data_Gourmet & World Food_Snacks, Dry Fruits, Nuts.json\n",
      "Data_Snacks & Branded Foods_Biscuits & Cookies.json\n",
      "Data_Cleaning & Household_Party & Festive Needs.json\n",
      "Data_Eggs, Meat & Fish_Pork & Other Meats.json\n",
      "Data_Cleaning & Household_Bins & Bathroom Ware.json\n",
      "Data_Gourmet & World Food_Dairy & Cheese.json\n",
      "Data_Foodgrains, Oil & Masala_Atta, Flours & Sooji.json\n",
      "Data_Cleaning & Household_Disposables, Garbage Bag.json\n",
      "Data_Bakery, Cakes & Dairy_Cakes & Pastries.json\n",
      "Data_Snacks & Branded Foods_Frozen Veggies & Snacks.json\n",
      "Data_Beauty & Hygiene_Skin Care.json\n",
      "Data_Beauty & Hygiene_Hair Care.json\n",
      "Data_Cleaning & Household_Mops, Brushes & Scrubs.json\n",
      "Data_Bakery, Cakes & Dairy_Ice Creams & Desserts.json\n",
      "Data_Bakery, Cakes & Dairy_Bakery Snacks.json\n",
      "Data_Beauty & Hygiene_Bath & Hand Wash.json\n",
      "Data_Beauty & Hygiene_Fragrances & Deos.json\n",
      "Data_Beauty & Hygiene_Oral Care.json\n",
      "Data_Snacks & Branded Foods_Spreads, Sauces, Ketchup.json\n",
      "Data_Beverages_Water.json\n",
      "Data_Beverages_Tea.json\n",
      "Data_Snacks & Branded Foods_Indian Mithai.json\n",
      "Data_Eggs, Meat & Fish_Eggs.json\n",
      "Data_Cleaning & Household_Car & Shoe Care.json\n",
      "Data_Eggs, Meat & Fish_Mutton & Lamb.json\n",
      "Data_Snacks & Branded Foods_Pickles & Chutney.json\n",
      "Data_Foodgrains, Oil & Masala_Organic Staples.json\n",
      "Data_Snacks & Branded Foods_Chocolates & Candies.json\n",
      "Data_Beauty & Hygiene_Men's Grooming.json\n",
      "Data_Beverages_Health Drink, Supplement.json\n",
      "Data_Baby Care_Mothers & Maternity.json\n",
      "Data_Cleaning & Household_Fresheners & Repellents.json\n",
      "Data_Beverages_Fruit Juices & Drinks.json\n",
      "Data_Cleaning & Household_Pooja Needs.json\n",
      "Data_Cleaning & Household_All Purpose Cleaners.json\n",
      "Data_Snacks & Branded Foods_Breakfast Cereals.json\n",
      "Data_Snacks & Branded Foods_Noodle, Pasta, Vermicelli.json\n",
      "Data_Beauty & Hygiene_Makeup.json\n",
      "Data_Gourmet & World Food_Pasta, Soup & Noodles.json\n",
      "Data_Gourmet & World Food_Tinned & Processed Food.json\n",
      "Data_Gourmet & World Food_Cereals & Breakfast.json\n",
      "Data_Gourmet & World Food_Drinks & Beverages.json\n",
      "Data_Gourmet & World Food_Oils & Vinegar.json\n"
     ]
    }
   ],
   "source": [
    "dir_path = \"/Users/arpitkjain/Desktop/Data/POC/ShopNXT/backend/data/collected_data/json\"\n",
    "product_df = pd.DataFrame()\n",
    "for json_file in os.listdir(dir_path):\n",
    "    if json_file != \".DS_Store\":\n",
    "        print(json_file)\n",
    "        product_list = json.load(open(os.path.join(dir_path,json_file),\"r\"))\n",
    "        for product in product_list:\n",
    "            df_temp = pd.DataFrame(product)\n",
    "            product_df = product_df.append(df_temp)\n",
    "        "
   ]
  },
  {
   "cell_type": "code",
   "execution_count": 14,
   "metadata": {},
   "outputs": [],
   "source": [
    "product_df.to_csv(\"product_data.csv\")"
   ]
  },
  {
   "cell_type": "code",
   "execution_count": null,
   "metadata": {},
   "outputs": [],
   "source": []
  },
  {
   "cell_type": "code",
   "execution_count": null,
   "metadata": {},
   "outputs": [],
   "source": []
  }
 ],
 "metadata": {
  "kernelspec": {
   "display_name": "Python 3",
   "language": "python",
   "name": "python3"
  },
  "language_info": {
   "codemirror_mode": {
    "name": "ipython",
    "version": 3
   },
   "file_extension": ".py",
   "mimetype": "text/x-python",
   "name": "python",
   "nbconvert_exporter": "python",
   "pygments_lexer": "ipython3",
   "version": "3.7.4"
  }
 },
 "nbformat": 4,
 "nbformat_minor": 2
}
