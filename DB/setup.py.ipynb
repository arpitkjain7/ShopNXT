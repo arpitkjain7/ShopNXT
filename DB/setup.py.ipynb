{
 "cells": [
  {
   "cell_type": "code",
   "execution_count": 9,
   "metadata": {},
   "outputs": [],
   "source": [
    "import sqlite3"
   ]
  },
  {
   "cell_type": "code",
   "execution_count": 10,
   "metadata": {},
   "outputs": [
    {
     "name": "stdout",
     "output_type": "stream",
     "text": [
      "Opened database successfully\n"
     ]
    }
   ],
   "source": [
    "conn = sqlite3.connect(\"grocx.db\")\n",
    "print(\"Opened database successfully\")"
   ]
  },
  {
   "cell_type": "code",
   "execution_count": 12,
   "metadata": {},
   "outputs": [
    {
     "name": "stdout",
     "output_type": "stream",
     "text": [
      "Table created successfully\n"
     ]
    }
   ],
   "source": [
    "conn.execute(\n",
    "    \"\"\"CREATE TABLE USER\n",
    "         (USER_ID TEXT(50) PRIMARY KEY NOT NULL,\n",
    "         FIRST_NAME TEXT(50) NOT NULL,\n",
    "         LAST_NAME TEXT(50) NOT NULL,\n",
    "         EMAIL_ID TEXT(50),\n",
    "         PHONE_NO INTEGER(10),\n",
    "         FAMILY_MEM_COUNT INTEGER(10),\n",
    "         USER_NAME TEXT(50),\n",
    "         PASSWORD TEXT(50),\n",
    "         CITY TEXT(50),\n",
    "         ADDRESS_LINE_1 TEXT(50),\n",
    "         ADDRESS_LINE_2 TEXT(50),\n",
    "         STATE TEXT(50),\n",
    "         COUNTY TEXT(50),\n",
    "         LANDMARK TEXT(50),\n",
    "         ZIPCODE TEXT(50),\n",
    "         GENDER TEXT(10),\n",
    "         EMAIL_VERIFIED BOOLEAN False,\n",
    "         PHONE_NO_VERIFIED BOOLEAN False);\"\"\"\n",
    ")\n",
    "print(\"Table created successfully\")\n"
   ]
  },
  {
   "cell_type": "code",
   "execution_count": 13,
   "metadata": {},
   "outputs": [
    {
     "name": "stdout",
     "output_type": "stream",
     "text": [
      "Table created successfully\n"
     ]
    }
   ],
   "source": [
    "conn.execute(\n",
    "    \"\"\"CREATE TABLE PRODUCT\n",
    "         (PRODUCT_ID TEXT(50) PRIMARY KEY NOT NULL,\n",
    "         PRODUCT_NAME TEXT(50) NOT NULL,\n",
    "         CATEGORY TEXT(50) NOT NULL,\n",
    "         TYPE TEXT(50),\n",
    "         UoM TEXT(10));\"\"\"\n",
    ")\n",
    "print(\"Table created successfully\")\n"
   ]
  },
  {
   "cell_type": "code",
   "execution_count": 14,
   "metadata": {},
   "outputs": [
    {
     "name": "stdout",
     "output_type": "stream",
     "text": [
      "Table created successfully\n"
     ]
    }
   ],
   "source": [
    "conn.execute(\n",
    "    \"\"\"CREATE TABLE ORDER_HEADER\n",
    "         (ORDER_ID TEXT(50) PRIMARY KEY NOT NULL,\n",
    "         ORDER_DATE TEXT(50) NOT NULL,\n",
    "         USER_ID TEXT(50) NOT NULL,\n",
    "         ORDER_TOTAL TEXT(50),\n",
    "         FOREIGN KEY (USER_ID)\n",
    "         REFERENCES USER(USER_ID));\"\"\"\n",
    ")\n",
    "print(\"Table created successfully\")\n"
   ]
  },
  {
   "cell_type": "code",
   "execution_count": 15,
   "metadata": {},
   "outputs": [
    {
     "name": "stdout",
     "output_type": "stream",
     "text": [
      "Table created successfully\n"
     ]
    }
   ],
   "source": [
    "conn.execute(\n",
    "    \"\"\"CREATE TABLE ORDER_ITEM\n",
    "         (ORDER_ITEM_ID TEXT(50) PRIMARY KEY NOT NULL,\n",
    "         UoM TEXT(50),\n",
    "         QUANTITY TEXT(50),\n",
    "         ORDER_ID TEXT(50) NOT NULL,\n",
    "         PRODUCT_ID TEXT(50) NOT NULL,\n",
    "         FOREIGN KEY (ORDER_ID)\n",
    "         REFERENCES ORDER_HEADER(ORDER_ID),\n",
    "         FOREIGN KEY (PRODUCT_ID)\n",
    "         REFERENCES PRODUCT(PRODUCT_ID));\"\"\"\n",
    ")\n",
    "print(\"Table created successfully\")\n"
   ]
  },
  {
   "cell_type": "code",
   "execution_count": 16,
   "metadata": {},
   "outputs": [],
   "source": [
    "conn.close()"
   ]
  },
  {
   "cell_type": "code",
   "execution_count": null,
   "metadata": {},
   "outputs": [],
   "source": []
  }
 ],
 "metadata": {
  "kernelspec": {
   "display_name": "Python 3",
   "language": "python",
   "name": "python3"
  },
  "language_info": {
   "codemirror_mode": {
    "name": "ipython",
    "version": 3
   },
   "file_extension": ".py",
   "mimetype": "text/x-python",
   "name": "python",
   "nbconvert_exporter": "python",
   "pygments_lexer": "ipython3",
   "version": "3.7.4"
  }
 },
 "nbformat": 4,
 "nbformat_minor": 2
}
